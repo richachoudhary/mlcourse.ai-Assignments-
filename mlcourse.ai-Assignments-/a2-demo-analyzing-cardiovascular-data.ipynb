{
 "cells": [
  {
   "cell_type": "code",
   "execution_count": 3,
   "metadata": {},
   "outputs": [
    {
     "name": "stdout",
     "output_type": "stream",
     "text": [
      "   id    age  gender  height  weight  ap_hi  ap_lo  cholesterol  gluc  smoke  \\\n",
      "0   0  18393       2     168    62.0    110     80            1     1      0   \n",
      "1   1  20228       1     156    85.0    140     90            3     1      0   \n",
      "2   2  18857       1     165    64.0    130     70            3     1      0   \n",
      "3   3  17623       2     169    82.0    150    100            1     1      0   \n",
      "4   4  17474       1     156    56.0    100     60            1     1      0   \n",
      "\n",
      "   alco  active  cardio  \n",
      "0     0       1       0  \n",
      "1     0       1       1  \n",
      "2     0       0       1  \n",
      "3     0       1       1  \n",
      "4     0       0       0  \n"
     ]
    }
   ],
   "source": [
    "##refer my solution at Kaggle.com https://www.kaggle.com/richachoudhary8096/a2-demo-analyzing-cardiovascular-data-mysolution?scriptVersionId=11399642\n",
    "\n",
    "import pandas as pd\n",
    "import numpy as np\n",
    "import matplotlib.pyplot as plt\n",
    "import seaborn as sns\n",
    "%matplotlib inline \n",
    "\n",
    "df= pd.read_csv(r\"C:\\Users\\RICHA\\Desktop\\mlbootcamp5_train.csv\\mlbootcamp5_train.csv\")\n",
    "print(df.head(5))"
   ]
  },
  {
   "cell_type": "code",
   "execution_count": 5,
   "metadata": {},
   "outputs": [
    {
     "data": {
      "text/plain": [
       "(70000, 13)"
      ]
     },
     "execution_count": 5,
     "metadata": {},
     "output_type": "execute_result"
    }
   ],
   "source": [
    "df.shape\n"
   ]
  },
  {
   "cell_type": "code",
   "execution_count": 9,
   "metadata": {},
   "outputs": [
    {
     "data": {
      "text/plain": [
       "Index(['id', 'age', 'gender', 'height', 'weight', 'ap_hi', 'ap_lo',\n",
       "       'cholesterol', 'gluc', 'smoke', 'alco', 'active', 'cardio'],\n",
       "      dtype='object')"
      ]
     },
     "execution_count": 9,
     "metadata": {},
     "output_type": "execute_result"
    }
   ],
   "source": [
    "df.columns"
   ]
  },
  {
   "cell_type": "markdown",
   "metadata": {},
   "source": [
    "1. How many men and women are present in this dataset? Values of the gender feature were not expailned (whether \"1\" stands for women or men) – figure this out by looking analyzing height, reasonably assuming that on average men are taller."
   ]
  },
  {
   "cell_type": "markdown",
   "metadata": {},
   "source": [
    "by analysing : men= 2, women= 3"
   ]
  },
  {
   "cell_type": "code",
   "execution_count": 10,
   "metadata": {},
   "outputs": [
    {
     "data": {
      "text/plain": [
       "pandas.core.series.Series"
      ]
     },
     "execution_count": 10,
     "metadata": {},
     "output_type": "execute_result"
    }
   ],
   "source": [
    "type(df['gender'])"
   ]
  },
  {
   "cell_type": "code",
   "execution_count": 11,
   "metadata": {},
   "outputs": [
    {
     "data": {
      "text/plain": [
       "1    45530\n",
       "2    24470\n",
       "Name: gender, dtype: int64"
      ]
     },
     "execution_count": 11,
     "metadata": {},
     "output_type": "execute_result"
    }
   ],
   "source": [
    "df['gender'].value_counts()"
   ]
  },
  {
   "cell_type": "markdown",
   "metadata": {},
   "source": [
    "45530 women and 24470 men"
   ]
  },
  {
   "cell_type": "markdown",
   "metadata": {},
   "source": [
    "2. Who more often report consuming alcohol - men or women?\n"
   ]
  },
  {
   "cell_type": "code",
   "execution_count": 12,
   "metadata": {},
   "outputs": [
    {
     "data": {
      "text/html": [
       "<div>\n",
       "<style scoped>\n",
       "    .dataframe tbody tr th:only-of-type {\n",
       "        vertical-align: middle;\n",
       "    }\n",
       "\n",
       "    .dataframe tbody tr th {\n",
       "        vertical-align: top;\n",
       "    }\n",
       "\n",
       "    .dataframe thead th {\n",
       "        text-align: right;\n",
       "    }\n",
       "</style>\n",
       "<table border=\"1\" class=\"dataframe\">\n",
       "  <thead>\n",
       "    <tr style=\"text-align: right;\">\n",
       "      <th>alco</th>\n",
       "      <th>0</th>\n",
       "      <th>1</th>\n",
       "    </tr>\n",
       "    <tr>\n",
       "      <th>gender</th>\n",
       "      <th></th>\n",
       "      <th></th>\n",
       "    </tr>\n",
       "  </thead>\n",
       "  <tbody>\n",
       "    <tr>\n",
       "      <th>1</th>\n",
       "      <td>44369</td>\n",
       "      <td>1161</td>\n",
       "    </tr>\n",
       "    <tr>\n",
       "      <th>2</th>\n",
       "      <td>21867</td>\n",
       "      <td>2603</td>\n",
       "    </tr>\n",
       "  </tbody>\n",
       "</table>\n",
       "</div>"
      ],
      "text/plain": [
       "alco        0     1\n",
       "gender             \n",
       "1       44369  1161\n",
       "2       21867  2603"
      ]
     },
     "execution_count": 12,
     "metadata": {},
     "output_type": "execute_result"
    }
   ],
   "source": [
    "pd.crosstab(df['gender'], df['alco'])"
   ]
  },
  {
   "cell_type": "markdown",
   "metadata": {},
   "source": [
    "3. What's the rounded difference between the percentages of smokers among men and women?\n"
   ]
  },
  {
   "cell_type": "code",
   "execution_count": 13,
   "metadata": {},
   "outputs": [
    {
     "data": {
      "text/html": [
       "<div>\n",
       "<style scoped>\n",
       "    .dataframe tbody tr th:only-of-type {\n",
       "        vertical-align: middle;\n",
       "    }\n",
       "\n",
       "    .dataframe tbody tr th {\n",
       "        vertical-align: top;\n",
       "    }\n",
       "\n",
       "    .dataframe thead th {\n",
       "        text-align: right;\n",
       "    }\n",
       "</style>\n",
       "<table border=\"1\" class=\"dataframe\">\n",
       "  <thead>\n",
       "    <tr style=\"text-align: right;\">\n",
       "      <th>smoke</th>\n",
       "      <th>0</th>\n",
       "      <th>1</th>\n",
       "    </tr>\n",
       "    <tr>\n",
       "      <th>gender</th>\n",
       "      <th></th>\n",
       "      <th></th>\n",
       "    </tr>\n",
       "  </thead>\n",
       "  <tbody>\n",
       "    <tr>\n",
       "      <th>1</th>\n",
       "      <td>44717</td>\n",
       "      <td>813</td>\n",
       "    </tr>\n",
       "    <tr>\n",
       "      <th>2</th>\n",
       "      <td>19114</td>\n",
       "      <td>5356</td>\n",
       "    </tr>\n",
       "  </tbody>\n",
       "</table>\n",
       "</div>"
      ],
      "text/plain": [
       "smoke       0     1\n",
       "gender             \n",
       "1       44717   813\n",
       "2       19114  5356"
      ]
     },
     "execution_count": 13,
     "metadata": {},
     "output_type": "execute_result"
    }
   ],
   "source": [
    "pd.crosstab(df['gender'], df['smoke'])"
   ]
  },
  {
   "cell_type": "code",
   "execution_count": 17,
   "metadata": {},
   "outputs": [
    {
     "data": {
      "text/plain": [
       "0.01818100498691773"
      ]
     },
     "execution_count": 17,
     "metadata": {},
     "output_type": "execute_result"
    }
   ],
   "source": [
    "813/44717"
   ]
  },
  {
   "cell_type": "code",
   "execution_count": 18,
   "metadata": {},
   "outputs": [
    {
     "data": {
      "text/plain": [
       "0.28021345610547244"
      ]
     },
     "execution_count": 18,
     "metadata": {},
     "output_type": "execute_result"
    }
   ],
   "source": [
    "5356/19114"
   ]
  },
  {
   "cell_type": "code",
   "execution_count": 42,
   "metadata": {},
   "outputs": [
    {
     "data": {
      "text/plain": [
       "26.203245111855473"
      ]
     },
     "execution_count": 42,
     "metadata": {},
     "output_type": "execute_result"
    }
   ],
   "source": [
    "(0.28021345610547244-0.01818100498691773)*100"
   ]
  },
  {
   "cell_type": "code",
   "execution_count": 34,
   "metadata": {},
   "outputs": [
    {
     "data": {
      "text/plain": [
       "20"
      ]
     },
     "execution_count": 34,
     "metadata": {},
     "output_type": "execute_result"
    }
   ],
   "source": [
    "round(100 * (df.loc[df['gender'] == 2, 'smoke'].mean() - df.loc[df['gender'] == 1, 'smoke'].mean()))"
   ]
  },
  {
   "cell_type": "code",
   "execution_count": null,
   "metadata": {},
   "outputs": [],
   "source": []
  },
  {
   "cell_type": "markdown",
   "metadata": {},
   "source": [
    "4. What's the rounded difference between median values of age for smokers and non-smokers? You'll need to figure out the units of feature age in this dataset."
   ]
  },
  {
   "cell_type": "code",
   "execution_count": 41,
   "metadata": {},
   "outputs": [],
   "source": [
    "#pd.crosstab(df['smoke'], df['age']).T"
   ]
  },
  {
   "cell_type": "code",
   "execution_count": 21,
   "metadata": {},
   "outputs": [
    {
     "data": {
      "text/plain": [
       "54.794520547945204"
      ]
     },
     "execution_count": 21,
     "metadata": {},
     "output_type": "execute_result"
    }
   ],
   "source": [
    "20000/365"
   ]
  },
  {
   "cell_type": "markdown",
   "metadata": {},
   "source": [
    "days is the unit of age"
   ]
  },
  {
   "cell_type": "code",
   "execution_count": 40,
   "metadata": {},
   "outputs": [
    {
     "data": {
      "text/plain": [
       "-19.613963039014372"
      ]
     },
     "execution_count": 40,
     "metadata": {},
     "output_type": "execute_result"
    }
   ],
   "source": [
    "(df[df['smoke']==1]['age'].median() - df[df['smoke']==0]['age'].median())/365.25*12"
   ]
  },
  {
   "cell_type": "markdown",
   "metadata": {},
   "source": [
    "5. Calculate fractions of ill people (with CVD) in two segments described in the task. What's the quotient of these two fractions?"
   ]
  },
  {
   "cell_type": "markdown",
   "metadata": {},
   "source": [
    "if cholesterol level in this age group(60, 65) is 1, and systolic pressure is below 120, \n",
    "then the proportion of people with CVD is 26%.\n",
    "if cholesterol level in this age(60, 65) group is 2, and systolic pressure is below 120, then the proportion of people with CVD is 86%.which is 3fold and not 5 fold (after looking at the table https://www.escardio.org/Education/Practice-Tools/CVD-prevention-toolbox/SCORE-Risk-Charts)"
   ]
  },
  {
   "cell_type": "code",
   "execution_count": 47,
   "metadata": {},
   "outputs": [
    {
     "data": {
      "text/plain": [
       "65"
      ]
     },
     "execution_count": 47,
     "metadata": {},
     "output_type": "execute_result"
    }
   ],
   "source": [
    "df['age_years'] = (df['age'] / 365.25).round().astype('int')\n",
    "df['age_years'].max()"
   ]
  },
  {
   "cell_type": "code",
   "execution_count": 48,
   "metadata": {},
   "outputs": [
    {
     "data": {
      "text/html": [
       "<div>\n",
       "<style scoped>\n",
       "    .dataframe tbody tr th:only-of-type {\n",
       "        vertical-align: middle;\n",
       "    }\n",
       "\n",
       "    .dataframe tbody tr th {\n",
       "        vertical-align: top;\n",
       "    }\n",
       "\n",
       "    .dataframe thead th {\n",
       "        text-align: right;\n",
       "    }\n",
       "</style>\n",
       "<table border=\"1\" class=\"dataframe\">\n",
       "  <thead>\n",
       "    <tr style=\"text-align: right;\">\n",
       "      <th></th>\n",
       "      <th>id</th>\n",
       "      <th>age</th>\n",
       "      <th>gender</th>\n",
       "      <th>height</th>\n",
       "      <th>weight</th>\n",
       "      <th>ap_hi</th>\n",
       "      <th>ap_lo</th>\n",
       "      <th>cholesterol</th>\n",
       "      <th>gluc</th>\n",
       "      <th>smoke</th>\n",
       "      <th>alco</th>\n",
       "      <th>active</th>\n",
       "      <th>cardio</th>\n",
       "      <th>age_years</th>\n",
       "    </tr>\n",
       "  </thead>\n",
       "  <tbody>\n",
       "    <tr>\n",
       "      <th>19</th>\n",
       "      <td>29</td>\n",
       "      <td>21755</td>\n",
       "      <td>2</td>\n",
       "      <td>162</td>\n",
       "      <td>56.0</td>\n",
       "      <td>120</td>\n",
       "      <td>70</td>\n",
       "      <td>1</td>\n",
       "      <td>1</td>\n",
       "      <td>1</td>\n",
       "      <td>0</td>\n",
       "      <td>1</td>\n",
       "      <td>0</td>\n",
       "      <td>60</td>\n",
       "    </tr>\n",
       "    <tr>\n",
       "      <th>38</th>\n",
       "      <td>52</td>\n",
       "      <td>23388</td>\n",
       "      <td>2</td>\n",
       "      <td>162</td>\n",
       "      <td>72.0</td>\n",
       "      <td>130</td>\n",
       "      <td>80</td>\n",
       "      <td>1</td>\n",
       "      <td>1</td>\n",
       "      <td>1</td>\n",
       "      <td>0</td>\n",
       "      <td>1</td>\n",
       "      <td>1</td>\n",
       "      <td>64</td>\n",
       "    </tr>\n",
       "    <tr>\n",
       "      <th>67</th>\n",
       "      <td>90</td>\n",
       "      <td>22099</td>\n",
       "      <td>2</td>\n",
       "      <td>171</td>\n",
       "      <td>97.0</td>\n",
       "      <td>150</td>\n",
       "      <td>100</td>\n",
       "      <td>3</td>\n",
       "      <td>1</td>\n",
       "      <td>1</td>\n",
       "      <td>0</td>\n",
       "      <td>1</td>\n",
       "      <td>1</td>\n",
       "      <td>61</td>\n",
       "    </tr>\n",
       "    <tr>\n",
       "      <th>177</th>\n",
       "      <td>240</td>\n",
       "      <td>21848</td>\n",
       "      <td>2</td>\n",
       "      <td>170</td>\n",
       "      <td>69.0</td>\n",
       "      <td>120</td>\n",
       "      <td>80</td>\n",
       "      <td>1</td>\n",
       "      <td>1</td>\n",
       "      <td>1</td>\n",
       "      <td>1</td>\n",
       "      <td>1</td>\n",
       "      <td>0</td>\n",
       "      <td>60</td>\n",
       "    </tr>\n",
       "    <tr>\n",
       "      <th>182</th>\n",
       "      <td>248</td>\n",
       "      <td>22671</td>\n",
       "      <td>2</td>\n",
       "      <td>174</td>\n",
       "      <td>74.0</td>\n",
       "      <td>130</td>\n",
       "      <td>80</td>\n",
       "      <td>3</td>\n",
       "      <td>1</td>\n",
       "      <td>1</td>\n",
       "      <td>0</td>\n",
       "      <td>1</td>\n",
       "      <td>1</td>\n",
       "      <td>62</td>\n",
       "    </tr>\n",
       "  </tbody>\n",
       "</table>\n",
       "</div>"
      ],
      "text/plain": [
       "      id    age  gender  height  weight  ap_hi  ap_lo  cholesterol  gluc  \\\n",
       "19    29  21755       2     162    56.0    120     70            1     1   \n",
       "38    52  23388       2     162    72.0    130     80            1     1   \n",
       "67    90  22099       2     171    97.0    150    100            3     1   \n",
       "177  240  21848       2     170    69.0    120     80            1     1   \n",
       "182  248  22671       2     174    74.0    130     80            3     1   \n",
       "\n",
       "     smoke  alco  active  cardio  age_years  \n",
       "19       1     0       1       0         60  \n",
       "38       1     0       1       1         64  \n",
       "67       1     0       1       1         61  \n",
       "177      1     1       1       0         60  \n",
       "182      1     0       1       1         62  "
      ]
     },
     "execution_count": 48,
     "metadata": {},
     "output_type": "execute_result"
    }
   ],
   "source": [
    "smoking_old_men = df[(df['gender'] == 2) & (df['age_years'] >= 60)\n",
    "                    & (df['age_years'] < 65) & (df['smoke'] == 1)]\n",
    "smoking_old_men.head()"
   ]
  },
  {
   "cell_type": "code",
   "execution_count": 49,
   "metadata": {},
   "outputs": [
    {
     "data": {
      "text/plain": [
       "0.2631578947368421"
      ]
     },
     "execution_count": 49,
     "metadata": {},
     "output_type": "execute_result"
    }
   ],
   "source": [
    "smoking_old_men[(smoking_old_men['cholesterol'] == 1) &\n",
    "               (smoking_old_men['ap_hi'] < 120)]['cardio'].mean()"
   ]
  },
  {
   "cell_type": "code",
   "execution_count": 51,
   "metadata": {},
   "outputs": [
    {
     "data": {
      "text/plain": [
       "0.8636363636363636"
      ]
     },
     "execution_count": 51,
     "metadata": {},
     "output_type": "execute_result"
    }
   ],
   "source": [
    "smoking_old_men[(smoking_old_men['cholesterol'] == 3) & (smoking_old_men['ap_hi'] >=160) &\n",
    "               (smoking_old_men['ap_hi'] < 180)]['cardio'].mean()"
   ]
  },
  {
   "cell_type": "markdown",
   "metadata": {},
   "source": [
    "Create a new feature – BMI (Body Mass Index). To do this, divide weight in kilogramms by the square of height in meters. Normal BMI values are said to be from 18.5 to 25"
   ]
  },
  {
   "cell_type": "code",
   "execution_count": 56,
   "metadata": {},
   "outputs": [],
   "source": [
    "df['bmi']= df['weight']/(df['height']/100)**2"
   ]
  },
  {
   "cell_type": "code",
   "execution_count": 58,
   "metadata": {},
   "outputs": [
    {
     "data": {
      "text/plain": [
       "26.374068120774975"
      ]
     },
     "execution_count": 58,
     "metadata": {},
     "output_type": "execute_result"
    }
   ],
   "source": [
    "df['bmi'].median()"
   ]
  },
  {
   "cell_type": "code",
   "execution_count": 66,
   "metadata": {},
   "outputs": [
    {
     "data": {
      "text/plain": [
       "gender\n",
       "1    27.987583\n",
       "2    26.754442\n",
       "Name: bmi, dtype: float64"
      ]
     },
     "execution_count": 66,
     "metadata": {},
     "output_type": "execute_result"
    }
   ],
   "source": [
    "df.groupby('gender')['bmi'].mean()"
   ]
  },
  {
   "cell_type": "markdown",
   "metadata": {},
   "source": [
    "Women's BMI is on average higher then men's."
   ]
  },
  {
   "cell_type": "code",
   "execution_count": 70,
   "metadata": {},
   "outputs": [
    {
     "data": {
      "text/html": [
       "<div>\n",
       "<style scoped>\n",
       "    .dataframe tbody tr th:only-of-type {\n",
       "        vertical-align: middle;\n",
       "    }\n",
       "\n",
       "    .dataframe tbody tr th {\n",
       "        vertical-align: top;\n",
       "    }\n",
       "\n",
       "    .dataframe thead th {\n",
       "        text-align: right;\n",
       "    }\n",
       "</style>\n",
       "<table border=\"1\" class=\"dataframe\">\n",
       "  <thead>\n",
       "    <tr style=\"text-align: right;\">\n",
       "      <th></th>\n",
       "      <th></th>\n",
       "      <th></th>\n",
       "      <th>bmi</th>\n",
       "    </tr>\n",
       "    <tr>\n",
       "      <th>gender</th>\n",
       "      <th>alco</th>\n",
       "      <th>cardio</th>\n",
       "      <th></th>\n",
       "    </tr>\n",
       "  </thead>\n",
       "  <tbody>\n",
       "    <tr>\n",
       "      <th rowspan=\"4\" valign=\"top\">1</th>\n",
       "      <th rowspan=\"2\" valign=\"top\">0</th>\n",
       "      <th>0</th>\n",
       "      <td>25.654372</td>\n",
       "    </tr>\n",
       "    <tr>\n",
       "      <th>1</th>\n",
       "      <td>27.885187</td>\n",
       "    </tr>\n",
       "    <tr>\n",
       "      <th rowspan=\"2\" valign=\"top\">1</th>\n",
       "      <th>0</th>\n",
       "      <td>27.885187</td>\n",
       "    </tr>\n",
       "    <tr>\n",
       "      <th>1</th>\n",
       "      <td>30.110991</td>\n",
       "    </tr>\n",
       "    <tr>\n",
       "      <th rowspan=\"4\" valign=\"top\">2</th>\n",
       "      <th rowspan=\"2\" valign=\"top\">0</th>\n",
       "      <th>0</th>\n",
       "      <td>25.102391</td>\n",
       "    </tr>\n",
       "    <tr>\n",
       "      <th>1</th>\n",
       "      <td>26.674874</td>\n",
       "    </tr>\n",
       "    <tr>\n",
       "      <th rowspan=\"2\" valign=\"top\">1</th>\n",
       "      <th>0</th>\n",
       "      <td>25.351541</td>\n",
       "    </tr>\n",
       "    <tr>\n",
       "      <th>1</th>\n",
       "      <td>27.530797</td>\n",
       "    </tr>\n",
       "  </tbody>\n",
       "</table>\n",
       "</div>"
      ],
      "text/plain": [
       "                          bmi\n",
       "gender alco cardio           \n",
       "1      0    0       25.654372\n",
       "            1       27.885187\n",
       "       1    0       27.885187\n",
       "            1       30.110991\n",
       "2      0    0       25.102391\n",
       "            1       26.674874\n",
       "       1    0       25.351541\n",
       "            1       27.530797"
      ]
     },
     "execution_count": 70,
     "metadata": {},
     "output_type": "execute_result"
    }
   ],
   "source": [
    "df.groupby(['gender', 'alco', 'cardio'])['bmi'].median().to_frame()"
   ]
  },
  {
   "cell_type": "markdown",
   "metadata": {},
   "source": [
    "Healthy people have, on average, a higher BMI than the people with CVD, statement is incorrect, by comparing alco , cardio as 0, 0. s2: In the segment of healthy and non-drinking men BMI is closer to the norm than in the segment of healthy and non-drinking women, normal bmi considered is 18.5 to 25, statement is correct"
   ]
  },
  {
   "cell_type": "code",
   "execution_count": 71,
   "metadata": {},
   "outputs": [],
   "source": [
    "###data cleaning "
   ]
  },
  {
   "cell_type": "code",
   "execution_count": 73,
   "metadata": {},
   "outputs": [
    {
     "name": "stdout",
     "output_type": "stream",
     "text": [
      "0.9037\n"
     ]
    }
   ],
   "source": [
    "filtered_df = df[(df['ap_lo'] <= df['ap_hi']) & \n",
    "                 (df['height'] >= df['height'].quantile(0.025)) &\n",
    "                 (df['height'] <= df['height'].quantile(0.975)) &\n",
    "                 (df['weight'] >= df['weight'].quantile(0.025)) & \n",
    "                 (df['weight'] <= df['weight'].quantile(0.975))]\n",
    "print(filtered_df.shape[0] / df.shape[0])"
   ]
  },
  {
   "cell_type": "markdown",
   "metadata": {},
   "source": [
    "10% datas thrown out "
   ]
  },
  {
   "cell_type": "markdown",
   "metadata": {},
   "source": [
    "2.1. Which pair of features has the strongest Pearson's correlation with gender feature? *"
   ]
  },
  {
   "cell_type": "code",
   "execution_count": 77,
   "metadata": {},
   "outputs": [
    {
     "data": {
      "text/plain": [
       "id             0.003502\n",
       "age           -0.022811\n",
       "gender         1.000000\n",
       "height         0.499033\n",
       "weight         0.155406\n",
       "ap_hi          0.006005\n",
       "ap_lo          0.015254\n",
       "cholesterol   -0.035821\n",
       "gluc          -0.020491\n",
       "smoke          0.338135\n",
       "alco           0.170966\n",
       "active         0.005866\n",
       "cardio         0.008109\n",
       "age_years     -0.022905\n",
       "bmi           -0.096529\n",
       "dtype: float64"
      ]
     },
     "execution_count": 77,
     "metadata": {},
     "output_type": "execute_result"
    }
   ],
   "source": [
    "df.corrwith(df['gender'])"
   ]
  },
  {
   "cell_type": "markdown",
   "metadata": {},
   "source": [
    "height, smoke "
   ]
  },
  {
   "cell_type": "markdown",
   "metadata": {},
   "source": [
    "2.2. Which pair of features has the strongest Spearman's correlation between each other?\n"
   ]
  },
  {
   "cell_type": "code",
   "execution_count": 78,
   "metadata": {},
   "outputs": [
    {
     "data": {
      "text/html": [
       "<div>\n",
       "<style scoped>\n",
       "    .dataframe tbody tr th:only-of-type {\n",
       "        vertical-align: middle;\n",
       "    }\n",
       "\n",
       "    .dataframe tbody tr th {\n",
       "        vertical-align: top;\n",
       "    }\n",
       "\n",
       "    .dataframe thead th {\n",
       "        text-align: right;\n",
       "    }\n",
       "</style>\n",
       "<table border=\"1\" class=\"dataframe\">\n",
       "  <thead>\n",
       "    <tr style=\"text-align: right;\">\n",
       "      <th></th>\n",
       "      <th>id</th>\n",
       "      <th>age</th>\n",
       "      <th>height</th>\n",
       "      <th>weight</th>\n",
       "      <th>ap_hi</th>\n",
       "      <th>ap_lo</th>\n",
       "      <th>cholesterol</th>\n",
       "      <th>gluc</th>\n",
       "    </tr>\n",
       "  </thead>\n",
       "  <tbody>\n",
       "    <tr>\n",
       "      <th>id</th>\n",
       "      <td>1.000000</td>\n",
       "      <td>0.002682</td>\n",
       "      <td>-0.001886</td>\n",
       "      <td>-0.001292</td>\n",
       "      <td>0.003258</td>\n",
       "      <td>-0.000238</td>\n",
       "      <td>0.005706</td>\n",
       "      <td>0.002789</td>\n",
       "    </tr>\n",
       "    <tr>\n",
       "      <th>age</th>\n",
       "      <td>0.002682</td>\n",
       "      <td>1.000000</td>\n",
       "      <td>-0.082292</td>\n",
       "      <td>0.061559</td>\n",
       "      <td>0.219087</td>\n",
       "      <td>0.156700</td>\n",
       "      <td>0.140113</td>\n",
       "      <td>0.091791</td>\n",
       "    </tr>\n",
       "    <tr>\n",
       "      <th>height</th>\n",
       "      <td>-0.001886</td>\n",
       "      <td>-0.082292</td>\n",
       "      <td>1.000000</td>\n",
       "      <td>0.313569</td>\n",
       "      <td>0.019381</td>\n",
       "      <td>0.030534</td>\n",
       "      <td>-0.058940</td>\n",
       "      <td>-0.024369</td>\n",
       "    </tr>\n",
       "    <tr>\n",
       "      <th>weight</th>\n",
       "      <td>-0.001292</td>\n",
       "      <td>0.061559</td>\n",
       "      <td>0.313569</td>\n",
       "      <td>1.000000</td>\n",
       "      <td>0.277749</td>\n",
       "      <td>0.254420</td>\n",
       "      <td>0.137908</td>\n",
       "      <td>0.109901</td>\n",
       "    </tr>\n",
       "    <tr>\n",
       "      <th>ap_hi</th>\n",
       "      <td>0.003258</td>\n",
       "      <td>0.219087</td>\n",
       "      <td>0.019381</td>\n",
       "      <td>0.277749</td>\n",
       "      <td>1.000000</td>\n",
       "      <td>0.735436</td>\n",
       "      <td>0.208722</td>\n",
       "      <td>0.105334</td>\n",
       "    </tr>\n",
       "    <tr>\n",
       "      <th>ap_lo</th>\n",
       "      <td>-0.000238</td>\n",
       "      <td>0.156700</td>\n",
       "      <td>0.030534</td>\n",
       "      <td>0.254420</td>\n",
       "      <td>0.735436</td>\n",
       "      <td>1.000000</td>\n",
       "      <td>0.167401</td>\n",
       "      <td>0.082474</td>\n",
       "    </tr>\n",
       "    <tr>\n",
       "      <th>cholesterol</th>\n",
       "      <td>0.005706</td>\n",
       "      <td>0.140113</td>\n",
       "      <td>-0.058940</td>\n",
       "      <td>0.137908</td>\n",
       "      <td>0.208722</td>\n",
       "      <td>0.167401</td>\n",
       "      <td>1.000000</td>\n",
       "      <td>0.407803</td>\n",
       "    </tr>\n",
       "    <tr>\n",
       "      <th>gluc</th>\n",
       "      <td>0.002789</td>\n",
       "      <td>0.091791</td>\n",
       "      <td>-0.024369</td>\n",
       "      <td>0.109901</td>\n",
       "      <td>0.105334</td>\n",
       "      <td>0.082474</td>\n",
       "      <td>0.407803</td>\n",
       "      <td>1.000000</td>\n",
       "    </tr>\n",
       "  </tbody>\n",
       "</table>\n",
       "</div>"
      ],
      "text/plain": [
       "                   id       age    height    weight     ap_hi     ap_lo  \\\n",
       "id           1.000000  0.002682 -0.001886 -0.001292  0.003258 -0.000238   \n",
       "age          0.002682  1.000000 -0.082292  0.061559  0.219087  0.156700   \n",
       "height      -0.001886 -0.082292  1.000000  0.313569  0.019381  0.030534   \n",
       "weight      -0.001292  0.061559  0.313569  1.000000  0.277749  0.254420   \n",
       "ap_hi        0.003258  0.219087  0.019381  0.277749  1.000000  0.735436   \n",
       "ap_lo       -0.000238  0.156700  0.030534  0.254420  0.735436  1.000000   \n",
       "cholesterol  0.005706  0.140113 -0.058940  0.137908  0.208722  0.167401   \n",
       "gluc         0.002789  0.091791 -0.024369  0.109901  0.105334  0.082474   \n",
       "\n",
       "             cholesterol      gluc  \n",
       "id              0.005706  0.002789  \n",
       "age             0.140113  0.091791  \n",
       "height         -0.058940 -0.024369  \n",
       "weight          0.137908  0.109901  \n",
       "ap_hi           0.208722  0.105334  \n",
       "ap_lo           0.167401  0.082474  \n",
       "cholesterol     1.000000  0.407803  \n",
       "gluc            0.407803  1.000000  "
      ]
     },
     "execution_count": 78,
     "metadata": {},
     "output_type": "execute_result"
    }
   ],
   "source": [
    "corr = df[['id', 'age', 'height', 'weight', \n",
    "           'ap_hi', 'ap_lo', 'cholesterol', \n",
    "           'gluc']].corr(method='spearman')\n",
    "corr"
   ]
  },
  {
   "cell_type": "code",
   "execution_count": 81,
   "metadata": {},
   "outputs": [
    {
     "data": {
      "image/png": "[encoded data removed]",
      "text/plain": [
       "<Figure size 864x720 with 2 Axes>"
      ]
     },
     "metadata": {},
     "output_type": "display_data"
    }
   ],
   "source": [
    "# Create a mask to hide the upper triangle of the correlation matrix (which is symmetric)\n",
    "mask = np.zeros_like(corr, dtype=np.bool)\n",
    "mask[np.triu_indices_from(mask)] = True\n",
    "\n",
    "f, ax = plt.subplots(figsize=(12, 10))\n",
    "\n",
    "# Plot the heatmap using the mask and correct aspect ratio\n",
    "sns.heatmap(corr, mask=mask, vmax=1, center=0, annot=True, fmt='.2f',\n",
    "      square=True, linewidths=.5, cbar_kws={\"shrink\": .5});"
   ]
  },
  {
   "cell_type": "markdown",
   "metadata": {},
   "source": [
    "ap_hi and ap_lo have the highest spearman's correlation "
   ]
  },
  {
   "cell_type": "markdown",
   "metadata": {},
   "source": [
    " Why does these features have strong rank correlation?"
   ]
  },
  {
   "cell_type": "markdown",
   "metadata": {},
   "source": [
    " At what age does the number of people with CVD outnumber the number of people without CVD for the first time?"
   ]
  },
  {
   "cell_type": "code",
   "execution_count": 82,
   "metadata": {},
   "outputs": [
    {
     "data": {
      "image/png": "[encoded data removed]",
      "text/plain": [
       "<Figure size 432x288 with 1 Axes>"
      ]
     },
     "metadata": {},
     "output_type": "display_data"
    }
   ],
   "source": [
    "sns.countplot(x=\"age_years\", hue='cardio', data=df);"
   ]
  },
  {
   "cell_type": "markdown",
   "metadata": {},
   "source": [
    "55"
   ]
  },
  {
   "cell_type": "code",
   "execution_count": null,
   "metadata": {},
   "outputs": [],
   "source": []
  }
 ],
 "metadata": {
  "kernelspec": {
   "display_name": "Python 3",
   "language": "python",
   "name": "python3"
  },
  "language_info": {
   "codemirror_mode": {
    "name": "ipython",
    "version": 3
   },
   "file_extension": ".py",
   "mimetype": "text/x-python",
   "name": "python",
   "nbconvert_exporter": "python",
   "pygments_lexer": "ipython3",
   "version": "3.6.5"
  }
 },
 "nbformat": 4,
 "nbformat_minor": 2
}
